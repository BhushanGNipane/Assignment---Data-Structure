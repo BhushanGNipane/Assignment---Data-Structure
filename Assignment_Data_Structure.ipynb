{
  "nbformat": 4,
  "nbformat_minor": 0,
  "metadata": {
    "colab": {
      "provenance": []
    },
    "kernelspec": {
      "name": "python3",
      "display_name": "Python 3"
    },
    "language_info": {
      "name": "python"
    }
  },
  "cells": [
    {
      "cell_type": "markdown",
      "source": [
        "#Assignment - Data Structure\n",
        "\n",
        "\n",
        "\n"
      ],
      "metadata": {
        "id": "P5cIhAqa6zY6"
      }
    },
    {
      "cell_type": "markdown",
      "source": [
        "#Theoretical Questions :"
      ],
      "metadata": {
        "id": "DdnyMRpK7TcU"
      }
    },
    {
      "cell_type": "markdown",
      "source": [
        "1.What are data structures, and why are they important?\n",
        "- Data structure is a way to store and manage data to facilitate efficient access, modification, and processing. They are crucial for efficient data access, manipulation, and retrieval, impacting a program's performance, readability, and scalability. Choosing the right data structure can significantly affect how well a program solves a problem.\n",
        "\n",
        "- Data structures optimize how data is organized and accessed, allowing programs to perform operations like searching, sorting, and updating data quickly and efficiently.\n",
        "-Properly chosen data structures can dramatically improve the speed and efficiency of a program.\n",
        "-Well-structured data allows for easier understanding and maintenance of code.\n",
        "\n",
        "- Efficient data structures are crucial for handling large datasets and complex systems.\n",
        " -Many algorithms are built upon data structures, making them essential for developing efficient software.\n",
        "\n",
        "\n",
        "2.Explain the difference between mutable and immutable data types with examples?\n",
        "\n",
        "- Mutable data types: allow modification of their values in place.\n",
        "\n",
        "Examples include:\n",
        "\n",
        " - Lists: Ordered collections of items that can be modified by adding, removing, or changing elements.\n",
        "       my_list = [1, 2, 3]\n",
        "        my_list.append(4)\n",
        "        print(my_list)  \n",
        "        Output: [1, 2, 3, 4]\n",
        "\n",
        "- Dictionaries: Collections of key-value pairs where values can be modified, added, or removed.\n",
        "       my_dict = {\"x\": 4, \"y\": 5}\n",
        "        my_dict[\"z\"] = 6\n",
        "        print(my_dict)  \n",
        "        Output: {'x': 4, 'y': 5, 'z': 6}\n",
        "\n",
        "- Sets: Unordered collections of unique items that can be modified by adding or removing elements.\n",
        "       my_set = {1, 2, 3}\n",
        "        my_set.add(4)\n",
        "        print(my_set)  \n",
        "        Output: {1, 2, 3, 4}\n",
        "\n",
        "- Immutable data types: do not allow modification of their values after creation. Any operation that appears to modify an immutable object actually creates a new object with the modified value.\n",
        "\n",
        "Examples include:\n",
        "\n",
        "- Strings: Sequences of characters that cannot be changed once created.\n",
        "\n",
        "       my_string = \"hello\"\n",
        "        new_string = my_string + \" world\"  # Creates a new string\n",
        "        print(my_string)  # Output: hello\n",
        "        print(new_string)  \n",
        "        Output: hello world\n",
        "\n",
        "- Tuples: Ordered collections of items, similar to lists, but immutable.\n",
        "       my_tuple = (1, 2, 3)\n",
        "       new_tuple = my_tuple + (4,)\n",
        "       print(new_tuple)\n",
        "        print(my_tuple)\n",
        "        Output: (1, 2, 3)\n",
        "\n",
        "3.What are the main differences between lists and tuples in Python?\n",
        "\n",
        "- Lists are mutable and allow changes, while tuples are immutable and faster for iteration. Lists use square brackets [], tuples use parentheses ().\n",
        "\n",
        "\n",
        "4.Describe how dictionaries store data?\n",
        "- Dictionaries in Python store data as key-value pairs. Each key within a dictionary must be unique and immutable (e.g., a string, number, or tuple), while the associated value can be of any data type and can be duplicated.\n",
        "- The key acts as an identifier, allowing for efficient retrieval of its corresponding value. Dictionaries are unordered, meaning the items are not stored in a specific sequence.\n",
        "- When a key-value pair is added to a dictionary, Python uses a hash function to calculate the key's hash value. This hash value determines the location in memory where the key-value pair will be stored. This hashing mechanism allows for fast lookups, insertions, and deletions of items, even in large dictionaries.\n",
        "- When accessing a value using its key, Python recalculates the key's hash value and directly retrieves the value from the corresponding memory location.\n",
        "\n",
        "- Example:\n",
        "\n",
        " my_dict = {\"name\": \"Bhushan\", \"age\": 29, \"city\": “Nagpur\"}\n",
        "\n",
        " print(my_dict[\"name\"])  \n",
        "\n",
        " Output: Bhushan\n",
        "\n",
        "\n",
        "\n",
        "5.Why might you use a set instead of a list in Python?\n",
        "- A set in Python is an unordered collection of unique elements, while a list is an ordered collection that can contain duplicates. Sets offer advantages over lists in specific scenarios:\n",
        "          \n",
        "- Ensuring Uniqueness\n",
        "- Efficient Membership Testing\n",
        "- Set Operations\n",
        "- Memory Efficiency\n",
        "- Immutability of elements\n",
        "\n",
        "- Choosing between a set and a list depends on the specific requirements of the task. Sets excel in scenarios where uniqueness, membership testing, and set operations are crucial, while lists are better suited for ordered collections with potential duplicates and indexing needs.\n",
        "\n",
        "6.What is a string in Python, and how is it different from a list?\n",
        "\n",
        "- In Python, a string is an immutable sequence of characters, while a list is a mutable sequence of items, which can be of any data type. Strings are typically represented by text within single or double quotes, and they can only contain characters, whereas lists can hold various elements like numbers, other lists, or even strings.\n",
        "\n",
        " Key Differences:\n",
        "\n",
        "- Mutability:\n",
        "Strings are immutable, meaning their values cannot be changed after creation. Lists are mutable, allowing for modification, addition, or removal of elements.\n",
        "\n",
        "- Item Types:\n",
        "Strings can only store characters, while lists can store items of various data types.\n",
        "\n",
        "- Representation:\n",
        "Strings are typically enclosed in single or double quotes, while lists are defined within square brackets.\n",
        "\n",
        "- Methods:\n",
        "Strings have methods for string manipulation like split(), strip(), and replace(). Lists have methods for modifying their elements, such as append(), remove(), and pop().\n",
        "\n",
        "7.How do tuples ensure data integrity in python?\n",
        "\n",
        "- Tuples in Python ensure data integrity through their immutability. Once a tuple is created, its elements cannot be modified, added, or removed. This characteristic is crucial for maintaining the consistency and reliability of data, especially in scenarios where data should remain constant throughout its lifecycle.\n",
        "- Immutability prevents accidental or unauthorized changes to the data stored in a tuple. This feature makes tuples suitable for storing fixed values such as database connection settings, configuration parameters, or coordinates. By using tuples for such data, developers can ensure that these values remain unchanged, preventing potential errors or inconsistencies in the application.\n",
        "\n",
        "- Tuples also tend to be more memory-efficient and faster than lists, making them a good choice when dealing with data that does not need to be modified.\n",
        "\n",
        "8.What is a hash table, and how does it relate to dictionaries in Python?\n",
        "\n",
        "- A hash table is a data structure that stores key-value pairs, where each key is unique and used to access its corresponding value. Dictionaries are implemented using hash tables. When a key-value pair is added to a dictionary, Python calculates the hash value of the key and uses it to determine the index or position where the value will be stored in the underlying hash table. When you access a value using its key, Python again calculates the hash value and uses it to quickly locate the value in the table.\n",
        "\n",
        "9.Can lists contain different data types in Python?\n",
        "- Yes, lists in Python can contain elements of different data types. This is one of the features that makes Python lists very flexible. A single list can hold integers, floats, strings, booleans, and even other lists or more complex objects.  \n",
        "\n",
        "10.Explain why strings are immutable in python?\n",
        "- When a string is created, it is allocated a specific memory location, and that value cannot be altered. Any operation that appears to modify a string actually creates a new string object. If strings were mutable, changing the value of one variable would inadvertently affect all others referencing the same string, leading to unexpected behavior and bugs. Immutability ensures that each string value is unique and can be safely shared without modification.\n",
        "\n",
        "11.What advantages do dictionaries offer over lists for certain tasks?\n",
        "\n",
        "- Dictionaries allow fast key-based access and better organization for large datasets compared to index-based lists.\n",
        "\n",
        "12.Describe a scenario where using a tuple would be preferable over a list?\n",
        "\n",
        "- Tuples are preferable when data shouldn't change, like storing constants or keys in dictionaries.\n",
        "\n",
        "13.How do sets handle duplicate values in Python?\n",
        "- Sets in Python are designed to store only unique elements. When attempting to add a duplicate value to a set, it is automatically discarded, ensuring that the set maintains its uniqueness property. This behavior is fundamental to the nature of sets as unordered collections of distinct items. If a duplicate is added, the set remains unchanged.\n",
        "\n",
        " Example:\n",
        "\n",
        " my_set = {1, 2, 2, 3, 4, 4, 5}\n",
        "\n",
        " print(my_set)\n",
        "\n",
        " Expected output: {1, 2, 3, 4, 5}\n",
        "\n",
        "14.How does the “in” keyword work differently for lists and dictionaries?\n",
        "\n",
        "- \"in\" checks membership. In lists, it checks values; in dictionaries, it checks keys.\n",
        "\n",
        "15.Can you modify the elements of a tuple? Explain why or why not?\n",
        "- No, you cannot directly modify the elements of a tuple in Python. Tuples are immutable, meaning their contents cannot be changed after creation.  Immutability offers several benefits, including increased efficiency and the ability to use tuples as keys in dictionaries. Attempting to modify a tuple will raise a TypeError.\n",
        "\n",
        "- For example, trying to assign a new value to a tuple element will result in an error.\n",
        "\n",
        "- If you need to modify a sequence of values, lists should be used instead of tuples. Lists are mutable, allowing you to add, remove, or modify elements after they are created.\n",
        "\n",
        "16.What is nested dictionary, and give an example of its use case?\n",
        "- A nested dictionary in Python is a dictionary where one or more of the values are themselves dictionaries. This allows you to create a hierarchical structure for organizing and storing data.\n",
        "\n",
        " Example:\n",
        "\n",
        "\n",
        "\n",
        "\n",
        " employee_data =\n",
        "\n",
        "  {\n",
        "\n",
        "    \"name\": \"Alice\",\n",
        "    \"id\": 123,\n",
        "    \"address\": {\n",
        "        \"street\": \"123 Main St\",\n",
        "        \"city\": \"Anytown\",\n",
        "        \"state\": \"CA\"\n",
        "    },\n",
        "\n",
        "    \"skills\": [\"Python\", \"Data Analysis\"]\n",
        "    }\n",
        "\n",
        "\n",
        "- In this example, the address value is another dictionary itself, creating a nested structure.\n",
        "\n",
        "- Use Case:\n",
        "Nested dictionaries are useful when you need to store structured data that has multiple layers of information.\n",
        "For example, they can be used to represent: A dictionary with departments as keys and dictionaries of employees as values, with each employee's details stored in a nested dictionary.\n",
        "\n",
        "17.Describe the time complexity of accessing elements in a dictionary?\n",
        "\n",
        "- Accessing an element in a dictionary typically takes O(1) (constant time) on average. This means the time it takes to retrieve a value using its key doesn't increase significantly as the dictionary size grows. However, in the worst-case scenario, where numerous collisions occur (meaning different keys map to the same hash value), the time complexity can degrade to O(n) (linear time).\n",
        "\n",
        "- Average Case (O(1)):\n",
        "Dictionaries are often implemented using hash tables, which allow for near-instantaneous lookup of values based on their keys. The hash function converts the key into an index within the hash table, allowing direct access to the corresponding value.\n",
        "\n",
        "- Worst Case (O(n)):\n",
        "If a hash function is poorly designed or if many keys hash to the same index (collisions), the dictionary might need to search sequentially through the elements at that index, leading to a linear time complexity. This scenario is relatively rare in well-designed dictionaries.\n",
        "\n",
        "18.In what situations are lists preferred over dictionaries?\n",
        "- Lists are better when order matters and elements need to be accessed by position.\n",
        "\n",
        "19.Why are dictionaries considered unordered, and how does that affect data retrieval?\n",
        "\n",
        "- Dictionaries are unordered collections (before Python 3.7), so data isn't retrieved in insertion order.\n",
        "\n",
        "20.Explain the difference between a list and dictionary in terms of data retrieval?\n",
        "\n",
        "- A list is an ordered collection of items, whereas a dictionary is an unordered data collection in a key: value pair. Elements from the list can be accessed using the index, while the elements of the dictionary can be accessed using keys\n",
        "\n"
      ],
      "metadata": {
        "id": "atA-iuk_4kKw"
      }
    },
    {
      "cell_type": "markdown",
      "source": [
        "#Practical Questions :"
      ],
      "metadata": {
        "id": "xFDn5VK2AYKe"
      }
    },
    {
      "cell_type": "markdown",
      "source": [
        "1. Write a code to create a string with your name and print it."
      ],
      "metadata": {
        "id": "GcGuxi4LA77I"
      }
    },
    {
      "cell_type": "code",
      "source": [
        "Name = input(\"Enter your name : \")"
      ],
      "metadata": {
        "colab": {
          "base_uri": "https://localhost:8080/"
        },
        "id": "nZspkubiAc62",
        "outputId": "ad284d68-a64d-4ffd-e987-11e6b1a7dc59"
      },
      "execution_count": 3,
      "outputs": [
        {
          "name": "stdout",
          "output_type": "stream",
          "text": [
            "Enter your name : Bhushan Nipane\n"
          ]
        }
      ]
    },
    {
      "cell_type": "markdown",
      "source": [
        "2. Write a code to find the length of the string “Hello World”.\n",
        "\n",
        "\n"
      ],
      "metadata": {
        "id": "yyt9MntsA-_W"
      }
    },
    {
      "cell_type": "code",
      "source": [
        "Message =(\"Hello World\")\n",
        "len(Message)"
      ],
      "metadata": {
        "colab": {
          "base_uri": "https://localhost:8080/"
        },
        "id": "9k77j3hYBF_t",
        "outputId": "96998a76-d945-4c4d-8551-3ecd37e56748"
      },
      "execution_count": 7,
      "outputs": [
        {
          "output_type": "execute_result",
          "data": {
            "text/plain": [
              "11"
            ]
          },
          "metadata": {},
          "execution_count": 7
        }
      ]
    },
    {
      "cell_type": "markdown",
      "source": [
        "3. Write a code to slice the first 3 characters from the string “Python Programming”."
      ],
      "metadata": {
        "id": "7stb-39sBY6Q"
      }
    },
    {
      "cell_type": "code",
      "source": [
        "l= (\"Python Programming\")\n",
        "len(l)\n",
        "l[3:18]"
      ],
      "metadata": {
        "colab": {
          "base_uri": "https://localhost:8080/",
          "height": 36
        },
        "id": "lkYFc0mWBc6A",
        "outputId": "b773b743-1a4d-43c8-b9f1-ee8fac070125"
      },
      "execution_count": 16,
      "outputs": [
        {
          "output_type": "execute_result",
          "data": {
            "text/plain": [
              "'hon Programming'"
            ],
            "application/vnd.google.colaboratory.intrinsic+json": {
              "type": "string"
            }
          },
          "metadata": {},
          "execution_count": 16
        }
      ]
    },
    {
      "cell_type": "markdown",
      "source": [
        "4. Write a code to convert the string “hello” to uppercase?"
      ],
      "metadata": {
        "id": "iZTvxXusCp_U"
      }
    },
    {
      "cell_type": "code",
      "source": [
        "l=\"hello\"\n",
        "l.upper()"
      ],
      "metadata": {
        "colab": {
          "base_uri": "https://localhost:8080/",
          "height": 36
        },
        "id": "QlKTCIeACt90",
        "outputId": "2d23632d-eeb6-4e49-d265-e48bccad9d0a"
      },
      "execution_count": 19,
      "outputs": [
        {
          "output_type": "execute_result",
          "data": {
            "text/plain": [
              "'HELLO'"
            ],
            "application/vnd.google.colaboratory.intrinsic+json": {
              "type": "string"
            }
          },
          "metadata": {},
          "execution_count": 19
        }
      ]
    },
    {
      "cell_type": "markdown",
      "source": [
        "5. Write a code to replace the word “apple” with “ orange” in the string “I like apple”"
      ],
      "metadata": {
        "id": "pLOtpXzWFg6i"
      }
    },
    {
      "cell_type": "code",
      "source": [
        "l= \" I like apple\"\n",
        "l.replace(\"apple\",\"orange\")"
      ],
      "metadata": {
        "colab": {
          "base_uri": "https://localhost:8080/",
          "height": 36
        },
        "id": "g-KZFYt8FeS3",
        "outputId": "b051decf-b337-42eb-a584-4999d859a561"
      },
      "execution_count": 21,
      "outputs": [
        {
          "output_type": "execute_result",
          "data": {
            "text/plain": [
              "' I like orange'"
            ],
            "application/vnd.google.colaboratory.intrinsic+json": {
              "type": "string"
            }
          },
          "metadata": {},
          "execution_count": 21
        }
      ]
    },
    {
      "cell_type": "markdown",
      "source": [
        "6. Write a code to create a list with numbers 1 to 5 and print it"
      ],
      "metadata": {
        "id": "cTfefHlwIBDm"
      }
    },
    {
      "cell_type": "code",
      "source": [
        "list= [1,2,3,4,5]\n",
        "print(list)"
      ],
      "metadata": {
        "colab": {
          "base_uri": "https://localhost:8080/"
        },
        "id": "5zoqOk-KInYg",
        "outputId": "ffd79aa2-2b03-4eec-82e7-7186c387e254"
      },
      "execution_count": 34,
      "outputs": [
        {
          "output_type": "stream",
          "name": "stdout",
          "text": [
            "[1, 2, 3, 4, 5]\n"
          ]
        }
      ]
    },
    {
      "cell_type": "markdown",
      "source": [
        "7. Write a code to append the number 10 to the list [1, 2, 3, 4]"
      ],
      "metadata": {
        "id": "ynVroT1xMPH7"
      }
    },
    {
      "cell_type": "code",
      "source": [
        "list=[1,2,3,4]\n",
        "list.append(10)\n",
        "list"
      ],
      "metadata": {
        "colab": {
          "base_uri": "https://localhost:8080/"
        },
        "id": "JkaVRo47MbOZ",
        "outputId": "676d1cf5-e31c-4345-a543-9883e4f201b8"
      },
      "execution_count": 36,
      "outputs": [
        {
          "output_type": "execute_result",
          "data": {
            "text/plain": [
              "[1, 2, 3, 4, 10]"
            ]
          },
          "metadata": {},
          "execution_count": 36
        }
      ]
    },
    {
      "cell_type": "markdown",
      "source": [
        "8. Write a code to remove the number 3 from the list [1, 2, 3, 4, 5]"
      ],
      "metadata": {
        "id": "9hOVD1B8M_S4"
      }
    },
    {
      "cell_type": "code",
      "source": [
        "list=[1,2,3,4,5]\n",
        "list.remove(3)\n",
        "list"
      ],
      "metadata": {
        "colab": {
          "base_uri": "https://localhost:8080/"
        },
        "id": "QhCy1PrMNF8h",
        "outputId": "b6b89f08-ee59-426e-d302-310837f84599"
      },
      "execution_count": 38,
      "outputs": [
        {
          "output_type": "execute_result",
          "data": {
            "text/plain": [
              "[1, 2, 4, 5]"
            ]
          },
          "metadata": {},
          "execution_count": 38
        }
      ]
    },
    {
      "cell_type": "markdown",
      "source": [
        "9. Write a code to access the second element in the list ['a', 'b', 'c', 'd']"
      ],
      "metadata": {
        "id": "vY7XiWTsNeV2"
      }
    },
    {
      "cell_type": "code",
      "source": [
        "list=['a', 'b', 'c', 'd']\n",
        "list[1]"
      ],
      "metadata": {
        "colab": {
          "base_uri": "https://localhost:8080/",
          "height": 36
        },
        "id": "mkWBl8wmNhcx",
        "outputId": "5fe59540-c348-4870-b111-7f329e10de9e"
      },
      "execution_count": 39,
      "outputs": [
        {
          "output_type": "execute_result",
          "data": {
            "text/plain": [
              "'b'"
            ],
            "application/vnd.google.colaboratory.intrinsic+json": {
              "type": "string"
            }
          },
          "metadata": {},
          "execution_count": 39
        }
      ]
    },
    {
      "cell_type": "markdown",
      "source": [
        "10. Write a code to reverse the list [10, 20, 30, 40, 50]"
      ],
      "metadata": {
        "id": "vh6xPVtpNw5i"
      }
    },
    {
      "cell_type": "code",
      "source": [
        "list= [10, 20, 30, 40, 50]\n",
        "list[ : :-1 ]"
      ],
      "metadata": {
        "colab": {
          "base_uri": "https://localhost:8080/"
        },
        "id": "HUNuN5TBN0qw",
        "outputId": "255861e8-7060-4ddf-e96f-a60b3b26f3d6"
      },
      "execution_count": 58,
      "outputs": [
        {
          "output_type": "execute_result",
          "data": {
            "text/plain": [
              "[50, 40, 30, 20, 10]"
            ]
          },
          "metadata": {},
          "execution_count": 58
        }
      ]
    },
    {
      "cell_type": "markdown",
      "source": [
        "11. Write a code to create a tuple with the elements 100, 200, 300 and print"
      ],
      "metadata": {
        "id": "2NFruVZCQZJD"
      }
    },
    {
      "cell_type": "code",
      "source": [
        "tupl = (100,200,300)\n",
        "tupl"
      ],
      "metadata": {
        "colab": {
          "base_uri": "https://localhost:8080/"
        },
        "id": "6y90eJIjQehk",
        "outputId": "7132c9f6-e9e5-4e28-ba33-75382e4f0215"
      },
      "execution_count": 65,
      "outputs": [
        {
          "output_type": "execute_result",
          "data": {
            "text/plain": [
              "(100, 200, 300)"
            ]
          },
          "metadata": {},
          "execution_count": 65
        }
      ]
    },
    {
      "cell_type": "markdown",
      "source": [
        "12. Write a code to access the second-to-last element of the tuple ('red', 'green', 'blue', 'yellow')."
      ],
      "metadata": {
        "id": "piDtakzzQz0y"
      }
    },
    {
      "cell_type": "code",
      "source": [
        "t=('red', 'green', 'blue', 'yellow')\n",
        "t[2] # t[-2] can also be used in negative indexing"
      ],
      "metadata": {
        "colab": {
          "base_uri": "https://localhost:8080/",
          "height": 36
        },
        "id": "nirE_tR_Q2Zn",
        "outputId": "40d9655c-3de8-4bac-9044-6561f82d9413"
      },
      "execution_count": 72,
      "outputs": [
        {
          "output_type": "execute_result",
          "data": {
            "text/plain": [
              "'blue'"
            ],
            "application/vnd.google.colaboratory.intrinsic+json": {
              "type": "string"
            }
          },
          "metadata": {},
          "execution_count": 72
        }
      ]
    },
    {
      "cell_type": "markdown",
      "source": [
        "13. Write a code to find the minimum number in the tuple (10, 20, 5, 15)"
      ],
      "metadata": {
        "id": "YgeAq9itRlKO"
      }
    },
    {
      "cell_type": "code",
      "source": [
        "num = (10, 20, 5, 15)\n",
        "min(num)"
      ],
      "metadata": {
        "colab": {
          "base_uri": "https://localhost:8080/"
        },
        "id": "Wt1k7u5-RrNA",
        "outputId": "94f325b2-2426-4c12-99c9-65c4c9f9425a"
      },
      "execution_count": 73,
      "outputs": [
        {
          "output_type": "execute_result",
          "data": {
            "text/plain": [
              "5"
            ]
          },
          "metadata": {},
          "execution_count": 73
        }
      ]
    },
    {
      "cell_type": "markdown",
      "source": [
        "14. Write a code to find the index of the element \"cat\" in the tuple ('dog', 'cat', 'rabbit')."
      ],
      "metadata": {
        "id": "EJo9VyF5UzRz"
      }
    },
    {
      "cell_type": "code",
      "source": [
        "animal = ('dog', 'cat', 'rabbit')\n",
        "animal.index(\"cat\")"
      ],
      "metadata": {
        "colab": {
          "base_uri": "https://localhost:8080/"
        },
        "id": "vYnkPmOJU4q5",
        "outputId": "9297e285-48f5-46a8-ac63-51ff50265435"
      },
      "execution_count": 77,
      "outputs": [
        {
          "output_type": "execute_result",
          "data": {
            "text/plain": [
              "1"
            ]
          },
          "metadata": {},
          "execution_count": 77
        }
      ]
    },
    {
      "cell_type": "markdown",
      "source": [
        "15.  Write a code to create a tuple containing three different fruits and check if \"kiwi\" is in it."
      ],
      "metadata": {
        "id": "uivK2nKFVU0v"
      }
    },
    {
      "cell_type": "code",
      "source": [
        "fruits = (\"apple\",\"kiwi\",\"watermelon\")\n",
        "for i in fruits:\n",
        "  if i == \"kiwi\":\n",
        "    print(\"kiwi is in the fruits\")\n"
      ],
      "metadata": {
        "colab": {
          "base_uri": "https://localhost:8080/"
        },
        "id": "gJcTUCy0VX1v",
        "outputId": "c15d523f-f28f-43eb-f0ca-55dd7fade5c9"
      },
      "execution_count": 124,
      "outputs": [
        {
          "output_type": "stream",
          "name": "stdout",
          "text": [
            "kiwi is in the fruits\n"
          ]
        }
      ]
    },
    {
      "cell_type": "code",
      "source": [
        "fruits = (\"apple\",\"kiwi\",\"watermelon\")\n",
        "print(\"kiwi\" in fruits)"
      ],
      "metadata": {
        "colab": {
          "base_uri": "https://localhost:8080/"
        },
        "id": "Ctqp6SCFcwJn",
        "outputId": "fc9054b3-51e1-44ce-e805-ead15b687176"
      },
      "execution_count": 86,
      "outputs": [
        {
          "output_type": "stream",
          "name": "stdout",
          "text": [
            "True\n"
          ]
        }
      ]
    },
    {
      "cell_type": "markdown",
      "source": [
        "16. Write a code to create a set with the elements 'a', 'b', 'c' and print it"
      ],
      "metadata": {
        "id": "DGZUwxYmdPnB"
      }
    },
    {
      "cell_type": "code",
      "source": [
        "alphabet = {'a', 'b','c'}\n",
        "alphabet"
      ],
      "metadata": {
        "colab": {
          "base_uri": "https://localhost:8080/"
        },
        "id": "ri0cTaECczry",
        "outputId": "8ff5b02d-86db-4c4f-95b4-35dfeca145cb"
      },
      "execution_count": 89,
      "outputs": [
        {
          "output_type": "execute_result",
          "data": {
            "text/plain": [
              "{'a', 'b', 'c'}"
            ]
          },
          "metadata": {},
          "execution_count": 89
        }
      ]
    },
    {
      "cell_type": "markdown",
      "source": [
        "17.  Write a code to clear all elements from the set {1, 2, 3, 4, 5}."
      ],
      "metadata": {
        "id": "-PfzWIZtdokS"
      }
    },
    {
      "cell_type": "code",
      "source": [
        "s={1, 2, 3, 4, 5}\n",
        "s.clear()\n",
        "print(s)"
      ],
      "metadata": {
        "colab": {
          "base_uri": "https://localhost:8080/"
        },
        "id": "K3xVQ_nPds-C",
        "outputId": "1acc6890-84e3-4906-d46a-2687a821e3cf"
      },
      "execution_count": 93,
      "outputs": [
        {
          "output_type": "stream",
          "name": "stdout",
          "text": [
            "set()\n"
          ]
        }
      ]
    },
    {
      "cell_type": "markdown",
      "source": [
        "18.  Write a code to remove the element 4 from the set {1, 2, 3, 4}"
      ],
      "metadata": {
        "id": "bKWMdarqd-72"
      }
    },
    {
      "cell_type": "code",
      "source": [
        "s= {1, 2, 3, 4}\n",
        "s.remove(4)\n",
        "s"
      ],
      "metadata": {
        "colab": {
          "base_uri": "https://localhost:8080/"
        },
        "id": "WAr4GpIqczRU",
        "outputId": "3793e4b4-95de-4f71-a1db-8454ee1e8c4b"
      },
      "execution_count": 96,
      "outputs": [
        {
          "output_type": "execute_result",
          "data": {
            "text/plain": [
              "{1, 2, 3}"
            ]
          },
          "metadata": {},
          "execution_count": 96
        }
      ]
    },
    {
      "cell_type": "markdown",
      "source": [
        "19. Write a code to find the union of two sets {1, 2, 3} and {3, 4, 5}"
      ],
      "metadata": {
        "id": "WsApp4VYejrT"
      }
    },
    {
      "cell_type": "code",
      "source": [
        "a = {1, 2, 3}\n",
        "b = {3, 4, 5}\n",
        "a.union(b)"
      ],
      "metadata": {
        "colab": {
          "base_uri": "https://localhost:8080/"
        },
        "id": "tEp9UjT5eoY_",
        "outputId": "b2f4e205-35d0-4680-b04b-5ebc1275f752"
      },
      "execution_count": 123,
      "outputs": [
        {
          "output_type": "execute_result",
          "data": {
            "text/plain": [
              "{1, 2, 3, 4, 5}"
            ]
          },
          "metadata": {},
          "execution_count": 123
        }
      ]
    },
    {
      "cell_type": "markdown",
      "source": [
        "20.  Write a code to find the intersection of two sets {1, 2, 3} and {2, 3, 4}"
      ],
      "metadata": {
        "id": "_ysHFjIngZ-0"
      }
    },
    {
      "cell_type": "code",
      "source": [
        "a = {1, 2, 3}\n",
        "b = {2, 3, 4}\n",
        "a.intersection(b)"
      ],
      "metadata": {
        "colab": {
          "base_uri": "https://localhost:8080/"
        },
        "id": "QyHL-J3jgeCy",
        "outputId": "cb9cf633-6b81-4e1a-ff1a-a10852008739"
      },
      "execution_count": 125,
      "outputs": [
        {
          "output_type": "execute_result",
          "data": {
            "text/plain": [
              "{2, 3}"
            ]
          },
          "metadata": {},
          "execution_count": 125
        }
      ]
    },
    {
      "cell_type": "markdown",
      "source": [
        "21. Write a code to create a dictionary with the keys \"name\", \"age\", and \"city\", and print it."
      ],
      "metadata": {
        "id": "irN9FLZEgqMn"
      }
    },
    {
      "cell_type": "code",
      "source": [
        "dic = {\"name\":input(\"name : \"),\"age\":input(\"age : \"),\"city\":input(\"city : \")}\n",
        "print(dic)"
      ],
      "metadata": {
        "colab": {
          "base_uri": "https://localhost:8080/"
        },
        "id": "-F4l8u0AgxtT",
        "outputId": "fe4707cf-0bf4-4d29-e2fe-3d56cfed8dbb"
      },
      "execution_count": 139,
      "outputs": [
        {
          "output_type": "stream",
          "name": "stdout",
          "text": [
            "name : Bhushan Nipane\n",
            "age : 29\n",
            "city : Nagpur\n",
            "{'name': 'Bhushan Nipane', 'age': '29', 'city': 'Nagpur'}\n"
          ]
        }
      ]
    },
    {
      "cell_type": "markdown",
      "source": [
        "22. Write a code to add a new key-value pair \"country\": \"USA\" to the dictionary {'name': 'John', 'age': 25}."
      ],
      "metadata": {
        "id": "435HgBeKiDjU"
      }
    },
    {
      "cell_type": "code",
      "source": [
        "dic = {'name': 'John', 'age': 25}\n",
        "dic[\"country\"] = \"USA\"\n",
        "dic"
      ],
      "metadata": {
        "colab": {
          "base_uri": "https://localhost:8080/"
        },
        "id": "QrIBPfyBiJ8-",
        "outputId": "9475d05a-4192-4560-ada3-802d8494fa0c"
      },
      "execution_count": 146,
      "outputs": [
        {
          "output_type": "execute_result",
          "data": {
            "text/plain": [
              "{'name': 'John', 'age': 25, 'country': 'USA'}"
            ]
          },
          "metadata": {},
          "execution_count": 146
        }
      ]
    },
    {
      "cell_type": "markdown",
      "source": [
        "23.  Write a code to access the value associated with the key \"name\" in the dictionary {'name': 'Alice', 'age': 30}"
      ],
      "metadata": {
        "id": "QsdkERhDjxbM"
      }
    },
    {
      "cell_type": "code",
      "source": [
        "dic =  {'name': 'Alice', 'age': 30}\n",
        "dic['name']"
      ],
      "metadata": {
        "colab": {
          "base_uri": "https://localhost:8080/",
          "height": 36
        },
        "id": "YskC44pAj0nO",
        "outputId": "184c20c8-8cb5-4e21-8866-dbe3f61e154c"
      },
      "execution_count": 151,
      "outputs": [
        {
          "output_type": "execute_result",
          "data": {
            "text/plain": [
              "'Alice'"
            ],
            "application/vnd.google.colaboratory.intrinsic+json": {
              "type": "string"
            }
          },
          "metadata": {},
          "execution_count": 151
        }
      ]
    },
    {
      "cell_type": "markdown",
      "source": [
        "24.  Write a code to remove the key \"age\" from the dictionary {'name': 'Bob', 'age': 22, 'city': 'New York'}."
      ],
      "metadata": {
        "id": "787j5ZM6kVug"
      }
    },
    {
      "cell_type": "code",
      "source": [
        "dic= {'name': 'Bob', 'age': 22, 'city': 'New York'}\n",
        "dic.pop('age')\n",
        "dic"
      ],
      "metadata": {
        "colab": {
          "base_uri": "https://localhost:8080/"
        },
        "id": "mxHYp99LkbY3",
        "outputId": "013e20e4-86a6-4971-bb71-c901a3cc81a4"
      },
      "execution_count": 156,
      "outputs": [
        {
          "output_type": "execute_result",
          "data": {
            "text/plain": [
              "{'name': 'Bob', 'city': 'New York'}"
            ]
          },
          "metadata": {},
          "execution_count": 156
        }
      ]
    },
    {
      "cell_type": "code",
      "source": [
        "dic= {'name': 'Bob', 'age': 22, 'city': 'New York'}\n",
        "del dic['age']\n",
        "dic"
      ],
      "metadata": {
        "colab": {
          "base_uri": "https://localhost:8080/"
        },
        "id": "-2bhp-I3k9fG",
        "outputId": "f774eb2b-94be-4f06-9c2e-039a1eae8e81"
      },
      "execution_count": 159,
      "outputs": [
        {
          "output_type": "execute_result",
          "data": {
            "text/plain": [
              "{'name': 'Bob', 'city': 'New York'}"
            ]
          },
          "metadata": {},
          "execution_count": 159
        }
      ]
    },
    {
      "cell_type": "markdown",
      "source": [
        "25.  Write a code to check if the key \"city\" exists in the dictionary {'name': 'Alice', 'city': 'Paris'}."
      ],
      "metadata": {
        "id": "zZy_Qx-PvDK0"
      }
    },
    {
      "cell_type": "code",
      "source": [
        "dic ={'name': 'Alice', 'city': 'Paris'}\n",
        "print(\"city\" in dic)"
      ],
      "metadata": {
        "colab": {
          "base_uri": "https://localhost:8080/"
        },
        "id": "f_YpPqCvvNYL",
        "outputId": "6c5b6c1c-fff1-40a7-84e6-b5fe445e4cdb"
      },
      "execution_count": 171,
      "outputs": [
        {
          "output_type": "stream",
          "name": "stdout",
          "text": [
            "True\n"
          ]
        }
      ]
    },
    {
      "cell_type": "code",
      "source": [
        "dic ={'name': 'Alice', 'city': 'Paris'}\n",
        "if \"city\" in dic:\n",
        "  print(\"city is in the dictionary\")\n",
        "else:\n",
        "  print(\"city is not in the dictionary\")"
      ],
      "metadata": {
        "colab": {
          "base_uri": "https://localhost:8080/"
        },
        "id": "fOzosCctxshz",
        "outputId": "832e14da-862c-4f35-cded-44ab41ba2bda"
      },
      "execution_count": 175,
      "outputs": [
        {
          "output_type": "stream",
          "name": "stdout",
          "text": [
            "city is in the dictionary\n"
          ]
        }
      ]
    },
    {
      "cell_type": "code",
      "source": [
        "26. Write a code to create a list, a tuple, and a dictionary, and print them all."
      ],
      "metadata": {
        "id": "Pjy3XLNsx3BF"
      },
      "execution_count": null,
      "outputs": []
    },
    {
      "cell_type": "code",
      "source": [
        "list=[\"Bhushan\", \"Akshay\", \"Nimesh\"]\n",
        "tuple=(29,28,28)\n",
        "dictionary={\"name\":\"Bhushan\",\"age\": 29}\n",
        "print(list,tuple,dictionary)"
      ],
      "metadata": {
        "colab": {
          "base_uri": "https://localhost:8080/"
        },
        "id": "I4AID1sMx-8w",
        "outputId": "3cbe660c-ef7d-49fc-bff8-6e13802bed41"
      },
      "execution_count": 186,
      "outputs": [
        {
          "output_type": "stream",
          "name": "stdout",
          "text": [
            "['Bhushan', 'Akshay', 'Nimesh'] (29, 28, 28) {'name': 'Bhushan', 'age': 29}\n"
          ]
        }
      ]
    },
    {
      "cell_type": "markdown",
      "source": [
        "27.  Write a code to create a list of 5 random numbers between 1 and 100, sort it in ascending order, and print the result.(replaced)"
      ],
      "metadata": {
        "id": "PZoYavvb0wo3"
      }
    },
    {
      "cell_type": "code",
      "source": [
        "import random\n",
        "lst = random.sample(range(1, 101), 5)\n",
        "lst.sort()\n",
        "print(lst)"
      ],
      "metadata": {
        "colab": {
          "base_uri": "https://localhost:8080/"
        },
        "id": "0rbW2gLP05wE",
        "outputId": "fedcfead-48db-4046-bdd5-5cf5e013b597"
      },
      "execution_count": 3,
      "outputs": [
        {
          "output_type": "stream",
          "name": "stdout",
          "text": [
            "[5, 19, 39, 50, 73]\n"
          ]
        }
      ]
    },
    {
      "cell_type": "markdown",
      "source": [
        "28. Write a code to create a list with strings and print the element at the third index"
      ],
      "metadata": {
        "id": "DAyBwKhit0Hj"
      }
    },
    {
      "cell_type": "code",
      "source": [
        "lst = ['apple', 'banana', 'cherry', 'date']\n",
        "print(lst[3])"
      ],
      "metadata": {
        "colab": {
          "base_uri": "https://localhost:8080/"
        },
        "id": "xEM5CAFyt6NW",
        "outputId": "e52d923d-a2b1-4408-c9fa-e9142ef84ae8"
      },
      "execution_count": 4,
      "outputs": [
        {
          "output_type": "stream",
          "name": "stdout",
          "text": [
            "date\n"
          ]
        }
      ]
    },
    {
      "cell_type": "markdown",
      "source": [
        "29. Write a code to combine two dictionaries into one and print the result"
      ],
      "metadata": {
        "id": "hN7-oo99t-wW"
      }
    },
    {
      "cell_type": "code",
      "source": [
        "d1 = {'a': 1}\n",
        "d2 = {'b': 2}\n",
        "d1.update(d2)\n",
        "print(d1)"
      ],
      "metadata": {
        "colab": {
          "base_uri": "https://localhost:8080/"
        },
        "id": "2tMZb2fvuGRa",
        "outputId": "bf510111-a594-4eb5-aa31-c41d14cafcc3"
      },
      "execution_count": 5,
      "outputs": [
        {
          "output_type": "stream",
          "name": "stdout",
          "text": [
            "{'a': 1, 'b': 2}\n"
          ]
        }
      ]
    },
    {
      "cell_type": "markdown",
      "source": [
        "30. Write a code to convert a list of strings into a set"
      ],
      "metadata": {
        "id": "ulzsITmeuMVZ"
      }
    },
    {
      "cell_type": "code",
      "source": [
        "lst = ['apple', 'banana', 'cherry']\n",
        "print(set(lst))"
      ],
      "metadata": {
        "colab": {
          "base_uri": "https://localhost:8080/"
        },
        "id": "EdtQKVwLuQyJ",
        "outputId": "a622f51f-572d-4540-c10d-368e95e62c4b"
      },
      "execution_count": 8,
      "outputs": [
        {
          "output_type": "stream",
          "name": "stdout",
          "text": [
            "{'cherry', 'apple', 'banana'}\n"
          ]
        }
      ]
    }
  ]
}